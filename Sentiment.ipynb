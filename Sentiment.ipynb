{
 "cells": [
  {
   "cell_type": "code",
   "execution_count": 2,
   "id": "9b4826f3-c76c-4959-8b63-9921d75addf9",
   "metadata": {
    "tags": []
   },
   "outputs": [],
   "source": [
    "import pandas as pd\n",
    "import re\n",
    "import warnings\n",
    "warnings.filterwarnings('ignore')"
   ]
  },
  {
   "cell_type": "code",
   "execution_count": 1,
   "id": "f668ff9c-3cc4-4f70-adf1-9e79d6db2211",
   "metadata": {
    "tags": []
   },
   "outputs": [],
   "source": [
    "import pandas as pd\n",
    "import matplotlib.pyplot as plt\n",
    "import seaborn as sns\n",
    "from sklearn.model_selection import train_test_split\n",
    "from sklearn.pipeline import make_pipeline\n",
    "from sklearn.feature_extraction.text import CountVectorizer, HashingVectorizer, TfidfTransformer, TfidfVectorizer\n",
    "from sklearn.naive_bayes import MultinomialNB\n",
    "from sklearn.linear_model import LogisticRegression, SGDClassifier\n",
    "from sklearn.metrics import classification_report, confusion_matrix, accuracy_score\n",
    "pd.set_option('display.max_rows', None)\n",
    "from joblib import dump, load"
   ]
  },
  {
   "cell_type": "code",
   "execution_count": 3,
   "id": "822daf1b-98d7-4905-a38e-59aecde5ffa6",
   "metadata": {
    "tags": []
   },
   "outputs": [],
   "source": [
    "import nltk as nltk\n",
    "import nltk.corpus \n",
    "from nltk.corpus import stopwords\n",
    "from wordcloud import WordCloud, STOPWORDS, ImageColorGenerator"
   ]
  },
  {
   "cell_type": "code",
   "execution_count": 4,
   "id": "63d802bb-e239-4f28-94eb-8f822348f512",
   "metadata": {
    "tags": []
   },
   "outputs": [
    {
     "name": "stdout",
     "output_type": "stream",
     "text": [
      "Available CPUs: 12\n"
     ]
    }
   ],
   "source": [
    "import multiprocessing\n",
    "from pandarallel import pandarallel\n",
    "\n",
    "num_processors = multiprocessing.cpu_count()\n",
    "workers = num_processors-1\n",
    "print(f'Available CPUs: {num_processors}')"
   ]
  },
  {
   "cell_type": "code",
   "execution_count": 5,
   "id": "cf9f19e3-bef5-4266-8659-377c5ee4a9bb",
   "metadata": {
    "tags": []
   },
   "outputs": [
    {
     "name": "stdout",
     "output_type": "stream",
     "text": [
      "INFO: Pandarallel will run on 11 workers.\n",
      "INFO: Pandarallel will use standard multiprocessing data transfer (pipe) to transfer data between the main process and workers.\n",
      "\n",
      "WARNING: You are on Windows. If you detect any issue with pandarallel, be sure you checked out the Troubleshooting page:\n",
      "https://nalepae.github.io/pandarallel/troubleshooting/\n"
     ]
    }
   ],
   "source": [
    "pandarallel.initialize(nb_workers=num_processors-1, use_memory_fs=False)"
   ]
  },
  {
   "cell_type": "code",
   "execution_count": 4,
   "id": "695188ac-a6c9-44f9-a9a6-2c52c144b28b",
   "metadata": {
    "tags": []
   },
   "outputs": [],
   "source": [
    "directory = 'https://storage.googleapis.com/msca-bdp-data-open/yelp/'\n",
    "fileName = 'yelp_train_sentiment.json'\n",
    "\n",
    "path = directory + fileName"
   ]
  },
  {
   "cell_type": "code",
   "execution_count": 5,
   "id": "ad7afcf1-9064-44b7-af5f-2cf4ed97e23d",
   "metadata": {
    "tags": []
   },
   "outputs": [
    {
     "name": "stdout",
     "output_type": "stream",
     "text": [
      "CPU times: total: 2.7 s\n",
      "Wall time: 35.7 s\n"
     ]
    },
    {
     "data": {
      "text/plain": [
       "(255717, 3)"
      ]
     },
     "execution_count": 5,
     "metadata": {},
     "output_type": "execute_result"
    }
   ],
   "source": [
    "%%time\n",
    "\n",
    "df = pd.read_json(path, orient='records', lines=True)\n",
    "df.shape"
   ]
  },
  {
   "cell_type": "code",
   "execution_count": 6,
   "id": "2e981b70-0a54-4a47-b6d5-67046434d79d",
   "metadata": {
    "tags": []
   },
   "outputs": [
    {
     "data": {
      "text/html": [
       "<div>\n",
       "<style scoped>\n",
       "    .dataframe tbody tr th:only-of-type {\n",
       "        vertical-align: middle;\n",
       "    }\n",
       "\n",
       "    .dataframe tbody tr th {\n",
       "        vertical-align: top;\n",
       "    }\n",
       "\n",
       "    .dataframe thead th {\n",
       "        text-align: right;\n",
       "    }\n",
       "</style>\n",
       "<table border=\"1\" class=\"dataframe\">\n",
       "  <thead>\n",
       "    <tr style=\"text-align: right;\">\n",
       "      <th></th>\n",
       "      <th>text</th>\n",
       "      <th>label</th>\n",
       "      <th>lang</th>\n",
       "    </tr>\n",
       "  </thead>\n",
       "  <tbody>\n",
       "    <tr>\n",
       "      <th>0</th>\n",
       "      <td>I love Deagan's. I do. I really do. The atmosp...</td>\n",
       "      <td>1</td>\n",
       "      <td>en</td>\n",
       "    </tr>\n",
       "    <tr>\n",
       "      <th>1</th>\n",
       "      <td>I love the classes at this gym. Zumba and. Rad...</td>\n",
       "      <td>1</td>\n",
       "      <td>en</td>\n",
       "    </tr>\n",
       "  </tbody>\n",
       "</table>\n",
       "</div>"
      ],
      "text/plain": [
       "                                                text  label lang\n",
       "0  I love Deagan's. I do. I really do. The atmosp...      1   en\n",
       "1  I love the classes at this gym. Zumba and. Rad...      1   en"
      ]
     },
     "execution_count": 6,
     "metadata": {},
     "output_type": "execute_result"
    }
   ],
   "source": [
    "df.head(2)"
   ]
  },
  {
   "cell_type": "code",
   "execution_count": 7,
   "id": "c258fa4b-c355-42bb-9e0a-2334f14964e4",
   "metadata": {
    "tags": []
   },
   "outputs": [],
   "source": [
    "X = df['text']\n",
    "y = df['label']"
   ]
  },
  {
   "cell_type": "code",
   "execution_count": 8,
   "id": "0a8198a9-62d5-45ab-a1e8-9913e076618d",
   "metadata": {
    "tags": []
   },
   "outputs": [
    {
     "name": "stdout",
     "output_type": "stream",
     "text": [
      "Training records, X_train: (217359,) y_train: (217359,)\n",
      "Testing records, X_test: (38358,) y_test: (38358,)\n"
     ]
    }
   ],
   "source": [
    "X_train, X_test, y_train, y_test = train_test_split(X, y, random_state=42, stratify=y, train_size = 0.85, test_size = 0.15)\n",
    "\n",
    "print(f\"Training records, X_train: {X_train.shape} y_train: {y_train.shape}\")\n",
    "print(f\"Testing records, X_test: {X_test.shape} y_test: {y_test.shape}\")"
   ]
  },
  {
   "cell_type": "code",
   "execution_count": 9,
   "id": "190fe0d5-9874-41a3-a25e-6f864fc87dea",
   "metadata": {
    "tags": []
   },
   "outputs": [],
   "source": [
    "pipe_logreg = make_pipeline(\n",
    "    TfidfVectorizer(lowercase=False, stop_words='english', ngram_range=(1,3)),\n",
    "    LogisticRegression(max_iter=1000))"
   ]
  },
  {
   "cell_type": "code",
   "execution_count": 10,
   "id": "83b6955d-4c16-4c1c-8378-8a4f6605205a",
   "metadata": {
    "tags": []
   },
   "outputs": [
    {
     "data": {
      "text/html": [
       "<style>#sk-container-id-1 {color: black;}#sk-container-id-1 pre{padding: 0;}#sk-container-id-1 div.sk-toggleable {background-color: white;}#sk-container-id-1 label.sk-toggleable__label {cursor: pointer;display: block;width: 100%;margin-bottom: 0;padding: 0.3em;box-sizing: border-box;text-align: center;}#sk-container-id-1 label.sk-toggleable__label-arrow:before {content: \"▸\";float: left;margin-right: 0.25em;color: #696969;}#sk-container-id-1 label.sk-toggleable__label-arrow:hover:before {color: black;}#sk-container-id-1 div.sk-estimator:hover label.sk-toggleable__label-arrow:before {color: black;}#sk-container-id-1 div.sk-toggleable__content {max-height: 0;max-width: 0;overflow: hidden;text-align: left;background-color: #f0f8ff;}#sk-container-id-1 div.sk-toggleable__content pre {margin: 0.2em;color: black;border-radius: 0.25em;background-color: #f0f8ff;}#sk-container-id-1 input.sk-toggleable__control:checked~div.sk-toggleable__content {max-height: 200px;max-width: 100%;overflow: auto;}#sk-container-id-1 input.sk-toggleable__control:checked~label.sk-toggleable__label-arrow:before {content: \"▾\";}#sk-container-id-1 div.sk-estimator input.sk-toggleable__control:checked~label.sk-toggleable__label {background-color: #d4ebff;}#sk-container-id-1 div.sk-label input.sk-toggleable__control:checked~label.sk-toggleable__label {background-color: #d4ebff;}#sk-container-id-1 input.sk-hidden--visually {border: 0;clip: rect(1px 1px 1px 1px);clip: rect(1px, 1px, 1px, 1px);height: 1px;margin: -1px;overflow: hidden;padding: 0;position: absolute;width: 1px;}#sk-container-id-1 div.sk-estimator {font-family: monospace;background-color: #f0f8ff;border: 1px dotted black;border-radius: 0.25em;box-sizing: border-box;margin-bottom: 0.5em;}#sk-container-id-1 div.sk-estimator:hover {background-color: #d4ebff;}#sk-container-id-1 div.sk-parallel-item::after {content: \"\";width: 100%;border-bottom: 1px solid gray;flex-grow: 1;}#sk-container-id-1 div.sk-label:hover label.sk-toggleable__label {background-color: #d4ebff;}#sk-container-id-1 div.sk-serial::before {content: \"\";position: absolute;border-left: 1px solid gray;box-sizing: border-box;top: 0;bottom: 0;left: 50%;z-index: 0;}#sk-container-id-1 div.sk-serial {display: flex;flex-direction: column;align-items: center;background-color: white;padding-right: 0.2em;padding-left: 0.2em;position: relative;}#sk-container-id-1 div.sk-item {position: relative;z-index: 1;}#sk-container-id-1 div.sk-parallel {display: flex;align-items: stretch;justify-content: center;background-color: white;position: relative;}#sk-container-id-1 div.sk-item::before, #sk-container-id-1 div.sk-parallel-item::before {content: \"\";position: absolute;border-left: 1px solid gray;box-sizing: border-box;top: 0;bottom: 0;left: 50%;z-index: -1;}#sk-container-id-1 div.sk-parallel-item {display: flex;flex-direction: column;z-index: 1;position: relative;background-color: white;}#sk-container-id-1 div.sk-parallel-item:first-child::after {align-self: flex-end;width: 50%;}#sk-container-id-1 div.sk-parallel-item:last-child::after {align-self: flex-start;width: 50%;}#sk-container-id-1 div.sk-parallel-item:only-child::after {width: 0;}#sk-container-id-1 div.sk-dashed-wrapped {border: 1px dashed gray;margin: 0 0.4em 0.5em 0.4em;box-sizing: border-box;padding-bottom: 0.4em;background-color: white;}#sk-container-id-1 div.sk-label label {font-family: monospace;font-weight: bold;display: inline-block;line-height: 1.2em;}#sk-container-id-1 div.sk-label-container {text-align: center;}#sk-container-id-1 div.sk-container {/* jupyter's `normalize.less` sets `[hidden] { display: none; }` but bootstrap.min.css set `[hidden] { display: none !important; }` so we also need the `!important` here to be able to override the default hidden behavior on the sphinx rendered scikit-learn.org. See: https://github.com/scikit-learn/scikit-learn/issues/21755 */display: inline-block !important;position: relative;}#sk-container-id-1 div.sk-text-repr-fallback {display: none;}</style><div id=\"sk-container-id-1\" class=\"sk-top-container\"><div class=\"sk-text-repr-fallback\"><pre>Pipeline(steps=[(&#x27;tfidfvectorizer&#x27;,\n",
       "                 TfidfVectorizer(lowercase=False, ngram_range=(1, 3),\n",
       "                                 stop_words=&#x27;english&#x27;)),\n",
       "                (&#x27;logisticregression&#x27;, LogisticRegression(max_iter=1000))])</pre><b>In a Jupyter environment, please rerun this cell to show the HTML representation or trust the notebook. <br />On GitHub, the HTML representation is unable to render, please try loading this page with nbviewer.org.</b></div><div class=\"sk-container\" hidden><div class=\"sk-item sk-dashed-wrapped\"><div class=\"sk-label-container\"><div class=\"sk-label sk-toggleable\"><input class=\"sk-toggleable__control sk-hidden--visually\" id=\"sk-estimator-id-1\" type=\"checkbox\" ><label for=\"sk-estimator-id-1\" class=\"sk-toggleable__label sk-toggleable__label-arrow\">Pipeline</label><div class=\"sk-toggleable__content\"><pre>Pipeline(steps=[(&#x27;tfidfvectorizer&#x27;,\n",
       "                 TfidfVectorizer(lowercase=False, ngram_range=(1, 3),\n",
       "                                 stop_words=&#x27;english&#x27;)),\n",
       "                (&#x27;logisticregression&#x27;, LogisticRegression(max_iter=1000))])</pre></div></div></div><div class=\"sk-serial\"><div class=\"sk-item\"><div class=\"sk-estimator sk-toggleable\"><input class=\"sk-toggleable__control sk-hidden--visually\" id=\"sk-estimator-id-2\" type=\"checkbox\" ><label for=\"sk-estimator-id-2\" class=\"sk-toggleable__label sk-toggleable__label-arrow\">TfidfVectorizer</label><div class=\"sk-toggleable__content\"><pre>TfidfVectorizer(lowercase=False, ngram_range=(1, 3), stop_words=&#x27;english&#x27;)</pre></div></div></div><div class=\"sk-item\"><div class=\"sk-estimator sk-toggleable\"><input class=\"sk-toggleable__control sk-hidden--visually\" id=\"sk-estimator-id-3\" type=\"checkbox\" ><label for=\"sk-estimator-id-3\" class=\"sk-toggleable__label sk-toggleable__label-arrow\">LogisticRegression</label><div class=\"sk-toggleable__content\"><pre>LogisticRegression(max_iter=1000)</pre></div></div></div></div></div></div></div>"
      ],
      "text/plain": [
       "Pipeline(steps=[('tfidfvectorizer',\n",
       "                 TfidfVectorizer(lowercase=False, ngram_range=(1, 3),\n",
       "                                 stop_words='english')),\n",
       "                ('logisticregression', LogisticRegression(max_iter=1000))])"
      ]
     },
     "execution_count": 10,
     "metadata": {},
     "output_type": "execute_result"
    }
   ],
   "source": [
    "pipe_logreg.fit(X_train, y_train)"
   ]
  },
  {
   "cell_type": "code",
   "execution_count": 11,
   "id": "80c624b6-f31b-4242-a017-caed01247f0a",
   "metadata": {
    "tags": []
   },
   "outputs": [],
   "source": [
    "y_pred_logreg = pipe_logreg.predict(X_test)"
   ]
  },
  {
   "cell_type": "code",
   "execution_count": 12,
   "id": "8d5879f7-3c07-4649-8403-77d2ec85413c",
   "metadata": {
    "tags": []
   },
   "outputs": [
    {
     "name": "stdout",
     "output_type": "stream",
     "text": [
      "              precision    recall  f1-score   support\n",
      "\n",
      "           0       0.96      0.97      0.97     19199\n",
      "           1       0.97      0.96      0.97     19159\n",
      "\n",
      "    accuracy                           0.97     38358\n",
      "   macro avg       0.97      0.97      0.97     38358\n",
      "weighted avg       0.97      0.97      0.97     38358\n",
      "\n"
     ]
    }
   ],
   "source": [
    "print(classification_report(y_test, y_pred_logreg))"
   ]
  },
  {
   "cell_type": "code",
   "execution_count": 14,
   "id": "ff1a3b4e-0e1b-4247-9c1d-0b5f557e4708",
   "metadata": {
    "tags": []
   },
   "outputs": [],
   "source": [
    "%time \n",
    "dump(pipe_logreg, \"logreg.joblib\")"
   ]
  },
  {
   "cell_type": "code",
   "execution_count": 15,
   "id": "d1e5a596-4943-45b2-8880-74d4ee2cc7ad",
   "metadata": {
    "tags": []
   },
   "outputs": [
    {
     "data": {
      "text/plain": [
       "(131569, 4)"
      ]
     },
     "execution_count": 15,
     "metadata": {},
     "output_type": "execute_result"
    }
   ],
   "source": [
    "df_clean = pd.read_parquet(r'Preprocessing_3_no_ai.parquet', engine='pyarrow')\n",
    "df_clean.shape"
   ]
  },
  {
   "cell_type": "code",
   "execution_count": 15,
   "id": "74762e09-aae0-4bf7-8b72-647fd5847e8d",
   "metadata": {
    "tags": []
   },
   "outputs": [
    {
     "data": {
      "text/html": [
       "<div>\n",
       "<style scoped>\n",
       "    .dataframe tbody tr th:only-of-type {\n",
       "        vertical-align: middle;\n",
       "    }\n",
       "\n",
       "    .dataframe tbody tr th {\n",
       "        vertical-align: top;\n",
       "    }\n",
       "\n",
       "    .dataframe thead th {\n",
       "        text-align: right;\n",
       "    }\n",
       "</style>\n",
       "<table border=\"1\" class=\"dataframe\">\n",
       "  <thead>\n",
       "    <tr style=\"text-align: right;\">\n",
       "      <th></th>\n",
       "      <th>date</th>\n",
       "      <th>clean_title_v3</th>\n",
       "      <th>clean_text_v5</th>\n",
       "      <th>clean_text_no_ai</th>\n",
       "    </tr>\n",
       "  </thead>\n",
       "  <tbody>\n",
       "    <tr>\n",
       "      <th>0</th>\n",
       "      <td>2020-02-26</td>\n",
       "      <td>LegalTech Artificial Intelligence Market  Tech...</td>\n",
       "      <td>LegalTech Artificial Intelligence Market Techn...</td>\n",
       "      <td>legaltech  market  advancement future scope ca...</td>\n",
       "    </tr>\n",
       "    <tr>\n",
       "      <th>2</th>\n",
       "      <td>2020-03-13</td>\n",
       "      <td>Covid un messaggio dai ricercatori italiani ai...</td>\n",
       "      <td>Covid un messaggio dai ricercatori italiani ai...</td>\n",
       "      <td>covid un messaggio d ricercatori italiani  col...</td>\n",
       "    </tr>\n",
       "  </tbody>\n",
       "</table>\n",
       "</div>"
      ],
      "text/plain": [
       "         date                                     clean_title_v3  \\\n",
       "0  2020-02-26  LegalTech Artificial Intelligence Market  Tech...   \n",
       "2  2020-03-13  Covid un messaggio dai ricercatori italiani ai...   \n",
       "\n",
       "                                       clean_text_v5  \\\n",
       "0  LegalTech Artificial Intelligence Market Techn...   \n",
       "2  Covid un messaggio dai ricercatori italiani ai...   \n",
       "\n",
       "                                    clean_text_no_ai  \n",
       "0  legaltech  market  advancement future scope ca...  \n",
       "2  covid un messaggio d ricercatori italiani  col...  "
      ]
     },
     "execution_count": 15,
     "metadata": {},
     "output_type": "execute_result"
    }
   ],
   "source": [
    "df_clean.head(2)"
   ]
  },
  {
   "cell_type": "code",
   "execution_count": 20,
   "id": "b1baa25e-5c41-41be-9a8f-c10de6538022",
   "metadata": {
    "tags": []
   },
   "outputs": [],
   "source": [
    "test = df_clean['clean_title_v3']\n",
    "y_pred = pipe_logreg.predict(test)"
   ]
  },
  {
   "cell_type": "code",
   "execution_count": 21,
   "id": "e1fc141e-dbd4-48b8-ab4e-80afb539b530",
   "metadata": {
    "tags": []
   },
   "outputs": [],
   "source": [
    "df_clean['sentiment_model'] = y_pred"
   ]
  },
  {
   "cell_type": "code",
   "execution_count": 22,
   "id": "36bbe690-9aeb-488f-ab01-82bcf2e02966",
   "metadata": {
    "tags": []
   },
   "outputs": [],
   "source": [
    "df_clean['sentiment_model_cat'] = df_clean['sentiment_model'].map({0: 'Negative', 1: 'Positive'})"
   ]
  },
  {
   "cell_type": "code",
   "execution_count": 23,
   "id": "0bfdf33c-6fa0-4e11-afd9-c2c578754a2c",
   "metadata": {
    "tags": []
   },
   "outputs": [
    {
     "data": {
      "text/plain": [
       "sentiment_model_cat\n",
       "Negative    0.664837\n",
       "Positive    0.335163\n",
       "Name: proportion, dtype: float64"
      ]
     },
     "execution_count": 23,
     "metadata": {},
     "output_type": "execute_result"
    }
   ],
   "source": [
    "df_clean['sentiment_model_cat'].value_counts(normalize=True)"
   ]
  },
  {
   "cell_type": "code",
   "execution_count": 16,
   "id": "9eb9755a-e3fa-4b48-b549-368bb0928d8c",
   "metadata": {
    "tags": []
   },
   "outputs": [],
   "source": [
    "test1 = df_clean['clean_text_v5']\n",
    "y_pred1 = pipe_logreg.predict(test1)"
   ]
  },
  {
   "cell_type": "code",
   "execution_count": 17,
   "id": "b6dde2ab-2fb3-4b72-ad3f-7fd9ea54cc53",
   "metadata": {
    "tags": []
   },
   "outputs": [],
   "source": [
    "df_clean['sentiment_model_text'] = y_pred1"
   ]
  },
  {
   "cell_type": "code",
   "execution_count": 18,
   "id": "ea5595ba-cae7-4444-8e70-1e65f96443df",
   "metadata": {
    "tags": []
   },
   "outputs": [],
   "source": [
    "df_clean['sentiment_model_cat_text'] = df_clean['sentiment_model_text'].map({0: 'Negative', 1: 'Positive'})"
   ]
  },
  {
   "cell_type": "code",
   "execution_count": 19,
   "id": "0bec9eff-0772-400f-8e46-dbc5000f075f",
   "metadata": {},
   "outputs": [
    {
     "data": {
      "text/plain": [
       "sentiment_model_cat_text\n",
       "Negative    0.633151\n",
       "Positive    0.366849\n",
       "Name: proportion, dtype: float64"
      ]
     },
     "execution_count": 19,
     "metadata": {},
     "output_type": "execute_result"
    }
   ],
   "source": [
    "df_clean['sentiment_model_cat_text'].value_counts(normalize=True)"
   ]
  },
  {
   "cell_type": "code",
   "execution_count": 24,
   "id": "eb6a895d-acb9-403e-b6d5-817717129d81",
   "metadata": {},
   "outputs": [
    {
     "data": {
      "text/html": [
       "<div>\n",
       "<style scoped>\n",
       "    .dataframe tbody tr th:only-of-type {\n",
       "        vertical-align: middle;\n",
       "    }\n",
       "\n",
       "    .dataframe tbody tr th {\n",
       "        vertical-align: top;\n",
       "    }\n",
       "\n",
       "    .dataframe thead th {\n",
       "        text-align: right;\n",
       "    }\n",
       "</style>\n",
       "<table border=\"1\" class=\"dataframe\">\n",
       "  <thead>\n",
       "    <tr style=\"text-align: right;\">\n",
       "      <th></th>\n",
       "      <th>date</th>\n",
       "      <th>clean_title_v3</th>\n",
       "      <th>clean_text_v5</th>\n",
       "      <th>clean_text_no_ai</th>\n",
       "      <th>sentiment_model_text</th>\n",
       "      <th>sentiment_model_cat_text</th>\n",
       "      <th>sentiment_model</th>\n",
       "      <th>sentiment_model_cat</th>\n",
       "    </tr>\n",
       "  </thead>\n",
       "  <tbody>\n",
       "    <tr>\n",
       "      <th>0</th>\n",
       "      <td>2020-02-26</td>\n",
       "      <td>LegalTech Artificial Intelligence Market  Tech...</td>\n",
       "      <td>LegalTech Artificial Intelligence Market Techn...</td>\n",
       "      <td>legaltech  market  advancement future scope ca...</td>\n",
       "      <td>1</td>\n",
       "      <td>Positive</td>\n",
       "      <td>1</td>\n",
       "      <td>Positive</td>\n",
       "    </tr>\n",
       "    <tr>\n",
       "      <th>2</th>\n",
       "      <td>2020-03-13</td>\n",
       "      <td>Covid un messaggio dai ricercatori italiani ai...</td>\n",
       "      <td>Covid un messaggio dai ricercatori italiani ai...</td>\n",
       "      <td>covid un messaggio d ricercatori italiani  col...</td>\n",
       "      <td>1</td>\n",
       "      <td>Positive</td>\n",
       "      <td>0</td>\n",
       "      <td>Negative</td>\n",
       "    </tr>\n",
       "    <tr>\n",
       "      <th>7</th>\n",
       "      <td>2021-02-25</td>\n",
       "      <td>MulticoreWare Inc Becomes CEVAs Trusted Partne...</td>\n",
       "      <td>MulticoreWare Inc Becomes CEVAs Trusted Partne...</td>\n",
       "      <td>multicoreware inc becomes cevas trusted partne...</td>\n",
       "      <td>0</td>\n",
       "      <td>Negative</td>\n",
       "      <td>0</td>\n",
       "      <td>Negative</td>\n",
       "    </tr>\n",
       "    <tr>\n",
       "      <th>8</th>\n",
       "      <td>2022-10-06</td>\n",
       "      <td>Healthcare Artificial Intelligence Market Anal...</td>\n",
       "      <td>Healthcare Artificial Intelligence Market Anal...</td>\n",
       "      <td>healthcare  market analysis forecast next year...</td>\n",
       "      <td>1</td>\n",
       "      <td>Positive</td>\n",
       "      <td>0</td>\n",
       "      <td>Negative</td>\n",
       "    </tr>\n",
       "    <tr>\n",
       "      <th>9</th>\n",
       "      <td>2020-04-29</td>\n",
       "      <td>Artificial Intelligence As A Service Market Op...</td>\n",
       "      <td>Artificial Intelligence Service Market Opportu...</td>\n",
       "      <td>service market opportunities market analysis ...</td>\n",
       "      <td>1</td>\n",
       "      <td>Positive</td>\n",
       "      <td>0</td>\n",
       "      <td>Negative</td>\n",
       "    </tr>\n",
       "  </tbody>\n",
       "</table>\n",
       "</div>"
      ],
      "text/plain": [
       "         date                                     clean_title_v3  \\\n",
       "0  2020-02-26  LegalTech Artificial Intelligence Market  Tech...   \n",
       "2  2020-03-13  Covid un messaggio dai ricercatori italiani ai...   \n",
       "7  2021-02-25  MulticoreWare Inc Becomes CEVAs Trusted Partne...   \n",
       "8  2022-10-06  Healthcare Artificial Intelligence Market Anal...   \n",
       "9  2020-04-29  Artificial Intelligence As A Service Market Op...   \n",
       "\n",
       "                                       clean_text_v5  \\\n",
       "0  LegalTech Artificial Intelligence Market Techn...   \n",
       "2  Covid un messaggio dai ricercatori italiani ai...   \n",
       "7  MulticoreWare Inc Becomes CEVAs Trusted Partne...   \n",
       "8  Healthcare Artificial Intelligence Market Anal...   \n",
       "9  Artificial Intelligence Service Market Opportu...   \n",
       "\n",
       "                                    clean_text_no_ai  sentiment_model_text  \\\n",
       "0  legaltech  market  advancement future scope ca...                     1   \n",
       "2  covid un messaggio d ricercatori italiani  col...                     1   \n",
       "7  multicoreware inc becomes cevas trusted partne...                     0   \n",
       "8  healthcare  market analysis forecast next year...                     1   \n",
       "9   service market opportunities market analysis ...                     1   \n",
       "\n",
       "  sentiment_model_cat_text  sentiment_model sentiment_model_cat  \n",
       "0                 Positive                1            Positive  \n",
       "2                 Positive                0            Negative  \n",
       "7                 Negative                0            Negative  \n",
       "8                 Positive                0            Negative  \n",
       "9                 Positive                0            Negative  "
      ]
     },
     "execution_count": 24,
     "metadata": {},
     "output_type": "execute_result"
    }
   ],
   "source": [
    "df_clean.head()"
   ]
  },
  {
   "cell_type": "code",
   "execution_count": 32,
   "id": "02529137-3a29-43ed-becf-8275dc2a8f9d",
   "metadata": {
    "tags": []
   },
   "outputs": [
    {
     "name": "stderr",
     "output_type": "stream",
     "text": [
      "[nltk_data] Downloading package vader_lexicon to\n",
      "[nltk_data]     C:\\Users\\Rahul\\AppData\\Roaming\\nltk_data...\n",
      "[nltk_data]   Package vader_lexicon is already up-to-date!\n"
     ]
    }
   ],
   "source": [
    "import pandas as pd\n",
    "import nltk\n",
    "from nltk.sentiment import SentimentIntensityAnalyzer\n",
    "\n",
    "nltk.download('vader_lexicon')\n",
    "\n",
    "sia = SentimentIntensityAnalyzer()\n",
    "\n",
    "def get_sentiment_scores(text):\n",
    "    scores = sia.polarity_scores(text)\n",
    "    return scores\n",
    "\n",
    "df_clean['sentiment_vader'] = df_clean['clean_title_v3'].apply(get_sentiment_scores)"
   ]
  },
  {
   "cell_type": "code",
   "execution_count": 33,
   "id": "3177f06a-6e34-4d8e-8362-0398540f5f1a",
   "metadata": {
    "tags": []
   },
   "outputs": [
    {
     "data": {
      "text/html": [
       "<div>\n",
       "<style scoped>\n",
       "    .dataframe tbody tr th:only-of-type {\n",
       "        vertical-align: middle;\n",
       "    }\n",
       "\n",
       "    .dataframe tbody tr th {\n",
       "        vertical-align: top;\n",
       "    }\n",
       "\n",
       "    .dataframe thead th {\n",
       "        text-align: right;\n",
       "    }\n",
       "</style>\n",
       "<table border=\"1\" class=\"dataframe\">\n",
       "  <thead>\n",
       "    <tr style=\"text-align: right;\">\n",
       "      <th></th>\n",
       "      <th>date</th>\n",
       "      <th>clean_title_v3</th>\n",
       "      <th>clean_text_v5</th>\n",
       "      <th>clean_text_no_ai</th>\n",
       "      <th>sentiment_model</th>\n",
       "      <th>sentiment_model_cat</th>\n",
       "      <th>sentiment_vader</th>\n",
       "    </tr>\n",
       "  </thead>\n",
       "  <tbody>\n",
       "    <tr>\n",
       "      <th>0</th>\n",
       "      <td>2020-02-26</td>\n",
       "      <td>LegalTech Artificial Intelligence Market  Tech...</td>\n",
       "      <td>LegalTech Artificial Intelligence Market Techn...</td>\n",
       "      <td>legaltech  market  advancement future scope ca...</td>\n",
       "      <td>1</td>\n",
       "      <td>Positive</td>\n",
       "      <td>{'neg': 0.0, 'neu': 0.838, 'pos': 0.162, 'comp...</td>\n",
       "    </tr>\n",
       "    <tr>\n",
       "      <th>2</th>\n",
       "      <td>2020-03-13</td>\n",
       "      <td>Covid un messaggio dai ricercatori italiani ai...</td>\n",
       "      <td>Covid un messaggio dai ricercatori italiani ai...</td>\n",
       "      <td>covid un messaggio d ricercatori italiani  col...</td>\n",
       "      <td>0</td>\n",
       "      <td>Negative</td>\n",
       "      <td>{'neg': 0.0, 'neu': 1.0, 'pos': 0.0, 'compound...</td>\n",
       "    </tr>\n",
       "    <tr>\n",
       "      <th>7</th>\n",
       "      <td>2021-02-25</td>\n",
       "      <td>MulticoreWare Inc Becomes CEVAs Trusted Partne...</td>\n",
       "      <td>MulticoreWare Inc Becomes CEVAs Trusted Partne...</td>\n",
       "      <td>multicoreware inc becomes cevas trusted partne...</td>\n",
       "      <td>0</td>\n",
       "      <td>Negative</td>\n",
       "      <td>{'neg': 0.0, 'neu': 0.683, 'pos': 0.317, 'comp...</td>\n",
       "    </tr>\n",
       "    <tr>\n",
       "      <th>8</th>\n",
       "      <td>2022-10-06</td>\n",
       "      <td>Healthcare Artificial Intelligence Market Anal...</td>\n",
       "      <td>Healthcare Artificial Intelligence Market Anal...</td>\n",
       "      <td>healthcare  market analysis forecast next year...</td>\n",
       "      <td>0</td>\n",
       "      <td>Negative</td>\n",
       "      <td>{'neg': 0.0, 'neu': 0.744, 'pos': 0.256, 'comp...</td>\n",
       "    </tr>\n",
       "    <tr>\n",
       "      <th>9</th>\n",
       "      <td>2020-04-29</td>\n",
       "      <td>Artificial Intelligence As A Service Market Op...</td>\n",
       "      <td>Artificial Intelligence Service Market Opportu...</td>\n",
       "      <td>service market opportunities market analysis ...</td>\n",
       "      <td>0</td>\n",
       "      <td>Negative</td>\n",
       "      <td>{'neg': 0.0, 'neu': 0.678, 'pos': 0.322, 'comp...</td>\n",
       "    </tr>\n",
       "  </tbody>\n",
       "</table>\n",
       "</div>"
      ],
      "text/plain": [
       "        date                                     clean_title_v3  \\\n",
       "0 2020-02-26  LegalTech Artificial Intelligence Market  Tech...   \n",
       "2 2020-03-13  Covid un messaggio dai ricercatori italiani ai...   \n",
       "7 2021-02-25  MulticoreWare Inc Becomes CEVAs Trusted Partne...   \n",
       "8 2022-10-06  Healthcare Artificial Intelligence Market Anal...   \n",
       "9 2020-04-29  Artificial Intelligence As A Service Market Op...   \n",
       "\n",
       "                                       clean_text_v5  \\\n",
       "0  LegalTech Artificial Intelligence Market Techn...   \n",
       "2  Covid un messaggio dai ricercatori italiani ai...   \n",
       "7  MulticoreWare Inc Becomes CEVAs Trusted Partne...   \n",
       "8  Healthcare Artificial Intelligence Market Anal...   \n",
       "9  Artificial Intelligence Service Market Opportu...   \n",
       "\n",
       "                                    clean_text_no_ai  sentiment_model  \\\n",
       "0  legaltech  market  advancement future scope ca...                1   \n",
       "2  covid un messaggio d ricercatori italiani  col...                0   \n",
       "7  multicoreware inc becomes cevas trusted partne...                0   \n",
       "8  healthcare  market analysis forecast next year...                0   \n",
       "9   service market opportunities market analysis ...                0   \n",
       "\n",
       "  sentiment_model_cat                                    sentiment_vader  \n",
       "0            Positive  {'neg': 0.0, 'neu': 0.838, 'pos': 0.162, 'comp...  \n",
       "2            Negative  {'neg': 0.0, 'neu': 1.0, 'pos': 0.0, 'compound...  \n",
       "7            Negative  {'neg': 0.0, 'neu': 0.683, 'pos': 0.317, 'comp...  \n",
       "8            Negative  {'neg': 0.0, 'neu': 0.744, 'pos': 0.256, 'comp...  \n",
       "9            Negative  {'neg': 0.0, 'neu': 0.678, 'pos': 0.322, 'comp...  "
      ]
     },
     "execution_count": 33,
     "metadata": {},
     "output_type": "execute_result"
    }
   ],
   "source": [
    "df_clean.head()"
   ]
  },
  {
   "cell_type": "code",
   "execution_count": 34,
   "id": "dec3b4da-1aa7-4009-a8a1-6a707d3e8625",
   "metadata": {
    "tags": []
   },
   "outputs": [],
   "source": [
    "df_clean['sentiment_vader'] = df_clean['sentiment_vader'].astype(str)\n",
    "df_split = df_clean['sentiment_vader'].str.strip('{}').str.split(', ', expand=True)\n",
    "\n",
    "df_clean['neg_vader'] = 0.0\n",
    "df_clean['neu_vader'] = 0.0\n",
    "df_clean['pos_vader'] = 0.0\n",
    "df_clean['comp_vader'] = 0.0\n",
    "\n",
    "for i in range(df_split.shape[1] - 1):\n",
    "    key_value = df_split[i].str.split(':', expand=True)\n",
    "    key = key_value[0].str.strip().str.replace(\"'\", \"\")\n",
    "    value = pd.to_numeric(key_value[1].str.strip())\n",
    "    df_clean.loc[key == 'neg', 'neg_vader'] = value\n",
    "    df_clean.loc[key == 'neu', 'neu_vader'] = value\n",
    "    df_clean.loc[key == 'pos', 'pos_vader'] = value\n",
    "    df_clean.loc[key == 'compound', 'comp_vader'] = value"
   ]
  },
  {
   "cell_type": "code",
   "execution_count": 35,
   "id": "af118859-2257-4b54-9272-55fd20ca21d0",
   "metadata": {
    "tags": []
   },
   "outputs": [
    {
     "data": {
      "text/html": [
       "<div>\n",
       "<style scoped>\n",
       "    .dataframe tbody tr th:only-of-type {\n",
       "        vertical-align: middle;\n",
       "    }\n",
       "\n",
       "    .dataframe tbody tr th {\n",
       "        vertical-align: top;\n",
       "    }\n",
       "\n",
       "    .dataframe thead th {\n",
       "        text-align: right;\n",
       "    }\n",
       "</style>\n",
       "<table border=\"1\" class=\"dataframe\">\n",
       "  <thead>\n",
       "    <tr style=\"text-align: right;\">\n",
       "      <th></th>\n",
       "      <th>date</th>\n",
       "      <th>clean_title_v3</th>\n",
       "      <th>clean_text_v5</th>\n",
       "      <th>clean_text_no_ai</th>\n",
       "      <th>sentiment_model</th>\n",
       "      <th>sentiment_model_cat</th>\n",
       "      <th>sentiment_vader</th>\n",
       "      <th>neg_vader</th>\n",
       "      <th>neu_vader</th>\n",
       "      <th>pos_vader</th>\n",
       "      <th>comp_vader</th>\n",
       "    </tr>\n",
       "  </thead>\n",
       "  <tbody>\n",
       "    <tr>\n",
       "      <th>0</th>\n",
       "      <td>2020-02-26</td>\n",
       "      <td>LegalTech Artificial Intelligence Market  Tech...</td>\n",
       "      <td>LegalTech Artificial Intelligence Market Techn...</td>\n",
       "      <td>legaltech  market  advancement future scope ca...</td>\n",
       "      <td>1</td>\n",
       "      <td>Positive</td>\n",
       "      <td>{'neg': 0.0, 'neu': 0.838, 'pos': 0.162, 'comp...</td>\n",
       "      <td>0.0</td>\n",
       "      <td>0.838</td>\n",
       "      <td>0.162</td>\n",
       "      <td>0.0</td>\n",
       "    </tr>\n",
       "  </tbody>\n",
       "</table>\n",
       "</div>"
      ],
      "text/plain": [
       "        date                                     clean_title_v3  \\\n",
       "0 2020-02-26  LegalTech Artificial Intelligence Market  Tech...   \n",
       "\n",
       "                                       clean_text_v5  \\\n",
       "0  LegalTech Artificial Intelligence Market Techn...   \n",
       "\n",
       "                                    clean_text_no_ai  sentiment_model  \\\n",
       "0  legaltech  market  advancement future scope ca...                1   \n",
       "\n",
       "  sentiment_model_cat                                    sentiment_vader  \\\n",
       "0            Positive  {'neg': 0.0, 'neu': 0.838, 'pos': 0.162, 'comp...   \n",
       "\n",
       "   neg_vader  neu_vader  pos_vader  comp_vader  \n",
       "0        0.0      0.838      0.162         0.0  "
      ]
     },
     "execution_count": 35,
     "metadata": {},
     "output_type": "execute_result"
    }
   ],
   "source": [
    "df_clean.head(1)"
   ]
  },
  {
   "cell_type": "code",
   "execution_count": 25,
   "id": "2c057362-6712-433f-aa0a-c5758a5d6761",
   "metadata": {
    "tags": []
   },
   "outputs": [],
   "source": [
    "df_clean.to_parquet('Sentiment_final.parquet')"
   ]
  },
  {
   "cell_type": "code",
   "execution_count": 10,
   "id": "b14f9d30-40cf-494a-95ed-029f1cbebda3",
   "metadata": {
    "tags": []
   },
   "outputs": [],
   "source": [
    "df_clean.to_parquet('Sentiment_log_vader.parquet')"
   ]
  },
  {
   "cell_type": "code",
   "execution_count": 37,
   "id": "8fac17ce-12a1-4bd5-a811-0d806f53edf1",
   "metadata": {
    "tags": []
   },
   "outputs": [],
   "source": [
    "df_pos.to_csv('Positive_sentiment.csv')"
   ]
  },
  {
   "cell_type": "code",
   "execution_count": 38,
   "id": "8ca27fa4-2660-45cc-95d9-e46f1f24dcbf",
   "metadata": {
    "tags": []
   },
   "outputs": [],
   "source": [
    "df_neg.to_csv('Negative_sentiment.csv')"
   ]
  },
  {
   "cell_type": "code",
   "execution_count": 8,
   "id": "fb55785b-d30a-4ed2-9b13-29f7eb9e8281",
   "metadata": {
    "tags": []
   },
   "outputs": [],
   "source": [
    "df = pd.read_parquet('Sentiment_log_vader.parquet')"
   ]
  },
  {
   "cell_type": "code",
   "execution_count": 9,
   "id": "506694b1-210d-4489-ae0f-f48d6701db1c",
   "metadata": {},
   "outputs": [
    {
     "data": {
      "image/png": "[encoded data removed]",
      "text/plain": [
       "<Figure size 600x600 with 1 Axes>"
      ]
     },
     "metadata": {},
     "output_type": "display_data"
    }
   ],
   "source": [
    "import seaborn as sns\n",
    "import matplotlib.pyplot as plt\n",
    "\n",
    "title = ['% of positive articles', '% of negative articles']\n",
    "val = [61988, 122500]\n",
    "colors = ['#577590','#FF6F61']\n",
    "explode = (0.1, 0)\n",
    "total = sum(val)\n",
    "\n",
    "def my_fmt(x):\n",
    "    return '{:.1f}%'.format(x)\n",
    "\n",
    "fig, ax = plt.subplots(figsize=(6,6))\n",
    "sns.set(font_scale=1.5)\n",
    "sns.set_style(\"whitegrid\")\n",
    "\n",
    "patches, texts, autotexts = ax.pie(val, \n",
    "                                   colors=colors, labels=title, autopct=my_fmt, startangle=90, explode=explode, \n",
    "                                   pctdistance=0.7, labeldistance=1.1, \n",
    "                                   textprops={'fontsize': 15, 'color': 'black'}, wedgeprops={'linewidth': 2, 'edgecolor': 'white'})\n",
    "\n",
    "for autotext in autotexts:\n",
    "    autotext.set_color('white')\n",
    "    autotext.set_fontsize(18)\n",
    "\n",
    "# Add title\n",
    "ax.set_title('Articles by Sentiment', fontsize=20, fontweight='bold')\n",
    "\n",
    "plt.show()"
   ]
  },
  {
   "cell_type": "code",
   "execution_count": null,
   "id": "0450ee50-f664-4082-89f7-3baf893d2b6d",
   "metadata": {},
   "outputs": [],
   "source": []
  }
 ],
 "metadata": {
  "kernelspec": {
   "display_name": "Python 3 (ipykernel)",
   "language": "python",
   "name": "python3"
  },
  "language_info": {
   "codemirror_mode": {
    "name": "ipython",
    "version": 3
   },
   "file_extension": ".py",
   "mimetype": "text/x-python",
   "name": "python",
   "nbconvert_exporter": "python",
   "pygments_lexer": "ipython3",
   "version": "3.11.5"
  }
 },
 "nbformat": 4,
 "nbformat_minor": 5
}
